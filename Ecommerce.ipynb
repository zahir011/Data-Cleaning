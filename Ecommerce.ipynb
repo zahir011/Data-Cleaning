{
 "cells": [
  {
   "cell_type": "code",
   "execution_count": 1,
   "id": "5098e3f1-4a34-4b37-8971-c5f45c84b69a",
   "metadata": {},
   "outputs": [],
   "source": [
    "import pandas as pd\n",
    "import numpy as np\n",
    "import seaborn as sns"
   ]
  },
  {
   "cell_type": "code",
   "execution_count": null,
   "id": "37e10c9a-0359-4959-be4c-9fa424ae6da6",
   "metadata": {},
   "outputs": [],
   "source": [
    "df = pd.read_excel(\"Pakistan Largest Ecommerce Dataset.xlsx\")\n",
    "df"
   ]
  },
  {
   "cell_type": "code",
   "execution_count": 5,
   "id": "6b539c69-e0c4-47aa-8d4a-e269df627234",
   "metadata": {},
   "outputs": [
    {
     "name": "stderr",
     "output_type": "stream",
     "text": [
      "\n",
      "KeyboardInterrupt\n",
      "\n"
     ]
    }
   ],
   "source": [
    "import pandas as pd\n",
    "\n",
    "file_path = \"Pakistan Largest Ecommerce Dataset.xlsx\"\n",
    "df = pd.read_excel(file_path, usecols=[\"item_id\", \"status\", \"price\", \"qty_ordered\", \"grand_total\",\n",
    "                                       \"category_name_1\", \"payment_method\", \"Year\", \"Month\", \"Customer ID\"])\n",
    "\n",
    "# Sample 10% of the data\n",
    "df_sample = df.sample(frac=0.1, random_state=42)\n",
    "\n",
    "# Save it as a new file\n",
    "df_sample.to_excel(\"Pakistan_Ecommerce_Sample.xlsx\", index=False)\n"
   ]
  },
  {
   "cell_type": "code",
   "execution_count": null,
   "id": "dd272562-c645-4f99-a9d8-5ab0d27b86c0",
   "metadata": {},
   "outputs": [],
   "source": []
  }
 ],
 "metadata": {
  "kernelspec": {
   "display_name": "Python 3 (ipykernel)",
   "language": "python",
   "name": "python3"
  },
  "language_info": {
   "codemirror_mode": {
    "name": "ipython",
    "version": 3
   },
   "file_extension": ".py",
   "mimetype": "text/x-python",
   "name": "python",
   "nbconvert_exporter": "python",
   "pygments_lexer": "ipython3",
   "version": "3.12.4"
  }
 },
 "nbformat": 4,
 "nbformat_minor": 5
}
