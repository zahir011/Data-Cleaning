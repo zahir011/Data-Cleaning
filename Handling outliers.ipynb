{
 "cells": [
  {
   "cell_type": "code",
   "execution_count": 25,
   "id": "73d44c8c-95a3-4646-8d94-0ed6f5c83f5f",
   "metadata": {},
   "outputs": [],
   "source": [
    "# Step 1: Importing the required libraries:\n",
    "import numpy as np\n",
    "import pandas as pd\n",
    "import seaborn as sns"
   ]
  },
  {
   "cell_type": "code",
   "execution_count": 26,
   "id": "43bda45c-294b-4351-aca9-30b9df58e155",
   "metadata": {},
   "outputs": [],
   "source": [
    "# step 2: Create the data:\n",
    "data = pd.DataFrame({'Age':[20,21,22,23,24,25,26,27,28,29,30,50]})"
   ]
  },
  {
   "cell_type": "code",
   "execution_count": 27,
   "id": "7465aa49-6e5a-445d-a212-a9fa46f5be53",
   "metadata": {},
   "outputs": [
    {
     "data": {
      "text/html": [
       "<div>\n",
       "<style scoped>\n",
       "    .dataframe tbody tr th:only-of-type {\n",
       "        vertical-align: middle;\n",
       "    }\n",
       "\n",
       "    .dataframe tbody tr th {\n",
       "        vertical-align: top;\n",
       "    }\n",
       "\n",
       "    .dataframe thead th {\n",
       "        text-align: right;\n",
       "    }\n",
       "</style>\n",
       "<table border=\"1\" class=\"dataframe\">\n",
       "  <thead>\n",
       "    <tr style=\"text-align: right;\">\n",
       "      <th></th>\n",
       "      <th>Age</th>\n",
       "    </tr>\n",
       "  </thead>\n",
       "  <tbody>\n",
       "    <tr>\n",
       "      <th>0</th>\n",
       "      <td>20</td>\n",
       "    </tr>\n",
       "    <tr>\n",
       "      <th>1</th>\n",
       "      <td>21</td>\n",
       "    </tr>\n",
       "    <tr>\n",
       "      <th>2</th>\n",
       "      <td>22</td>\n",
       "    </tr>\n",
       "    <tr>\n",
       "      <th>3</th>\n",
       "      <td>23</td>\n",
       "    </tr>\n",
       "    <tr>\n",
       "      <th>4</th>\n",
       "      <td>24</td>\n",
       "    </tr>\n",
       "    <tr>\n",
       "      <th>5</th>\n",
       "      <td>25</td>\n",
       "    </tr>\n",
       "    <tr>\n",
       "      <th>6</th>\n",
       "      <td>26</td>\n",
       "    </tr>\n",
       "    <tr>\n",
       "      <th>7</th>\n",
       "      <td>27</td>\n",
       "    </tr>\n",
       "    <tr>\n",
       "      <th>8</th>\n",
       "      <td>28</td>\n",
       "    </tr>\n",
       "    <tr>\n",
       "      <th>9</th>\n",
       "      <td>29</td>\n",
       "    </tr>\n",
       "    <tr>\n",
       "      <th>10</th>\n",
       "      <td>30</td>\n",
       "    </tr>\n",
       "    <tr>\n",
       "      <th>11</th>\n",
       "      <td>50</td>\n",
       "    </tr>\n",
       "  </tbody>\n",
       "</table>\n",
       "</div>"
      ],
      "text/plain": [
       "    Age\n",
       "0    20\n",
       "1    21\n",
       "2    22\n",
       "3    23\n",
       "4    24\n",
       "5    25\n",
       "6    26\n",
       "7    27\n",
       "8    28\n",
       "9    29\n",
       "10   30\n",
       "11   50"
      ]
     },
     "execution_count": 27,
     "metadata": {},
     "output_type": "execute_result"
    }
   ],
   "source": [
    "data"
   ]
  },
  {
   "cell_type": "code",
   "execution_count": 28,
   "id": "c76ae497-b93e-4c91-ad25-4854a343a14e",
   "metadata": {},
   "outputs": [
    {
     "data": {
      "text/plain": [
       "<Axes: xlabel='Age', ylabel='Count'>"
      ]
     },
     "execution_count": 28,
     "metadata": {},
     "output_type": "execute_result"
    },
    {
     "data": {
      "image/png": "[encoded data removed]",
      "text/plain": [
       "<Figure size 640x480 with 1 Axes>"
      ]
     },
     "metadata": {},
     "output_type": "display_data"
    }
   ],
   "source": [
    "sns.histplot(data['Age'], bins=5, kde=True)"
   ]
  },
  {
   "cell_type": "code",
   "execution_count": 29,
   "id": "d3766946-794c-40b0-b368-79ca19fc4e5d",
   "metadata": {},
   "outputs": [
    {
     "data": {
      "text/plain": [
       "<Axes: ylabel='Age'>"
      ]
     },
     "execution_count": 29,
     "metadata": {},
     "output_type": "execute_result"
    },
    {
     "data": {
      "image/png": "[encoded data removed]",
      "text/plain": [
       "<Figure size 640x480 with 1 Axes>"
      ]
     },
     "metadata": {},
     "output_type": "display_data"
    }
   ],
   "source": [
    "sns.boxplot(data['Age'])"
   ]
  },
  {
   "cell_type": "code",
   "execution_count": 30,
   "id": "a2fc59e9-3aa4-4498-88fa-6fafecbb570b",
   "metadata": {},
   "outputs": [
    {
     "data": {
      "text/html": [
       "<div>\n",
       "<style scoped>\n",
       "    .dataframe tbody tr th:only-of-type {\n",
       "        vertical-align: middle;\n",
       "    }\n",
       "\n",
       "    .dataframe tbody tr th {\n",
       "        vertical-align: top;\n",
       "    }\n",
       "\n",
       "    .dataframe thead th {\n",
       "        text-align: right;\n",
       "    }\n",
       "</style>\n",
       "<table border=\"1\" class=\"dataframe\">\n",
       "  <thead>\n",
       "    <tr style=\"text-align: right;\">\n",
       "      <th></th>\n",
       "      <th>Age</th>\n",
       "      <th>mean</th>\n",
       "      <th>std</th>\n",
       "      <th>Z-score</th>\n",
       "    </tr>\n",
       "  </thead>\n",
       "  <tbody>\n",
       "    <tr>\n",
       "      <th>0</th>\n",
       "      <td>20</td>\n",
       "      <td>27.083333</td>\n",
       "      <td>7.543853</td>\n",
       "      <td>-0.938954</td>\n",
       "    </tr>\n",
       "    <tr>\n",
       "      <th>1</th>\n",
       "      <td>21</td>\n",
       "      <td>27.083333</td>\n",
       "      <td>7.543853</td>\n",
       "      <td>-0.806396</td>\n",
       "    </tr>\n",
       "    <tr>\n",
       "      <th>2</th>\n",
       "      <td>22</td>\n",
       "      <td>27.083333</td>\n",
       "      <td>7.543853</td>\n",
       "      <td>-0.673838</td>\n",
       "    </tr>\n",
       "    <tr>\n",
       "      <th>3</th>\n",
       "      <td>23</td>\n",
       "      <td>27.083333</td>\n",
       "      <td>7.543853</td>\n",
       "      <td>-0.541280</td>\n",
       "    </tr>\n",
       "    <tr>\n",
       "      <th>4</th>\n",
       "      <td>24</td>\n",
       "      <td>27.083333</td>\n",
       "      <td>7.543853</td>\n",
       "      <td>-0.408721</td>\n",
       "    </tr>\n",
       "    <tr>\n",
       "      <th>5</th>\n",
       "      <td>25</td>\n",
       "      <td>27.083333</td>\n",
       "      <td>7.543853</td>\n",
       "      <td>-0.276163</td>\n",
       "    </tr>\n",
       "    <tr>\n",
       "      <th>6</th>\n",
       "      <td>26</td>\n",
       "      <td>27.083333</td>\n",
       "      <td>7.543853</td>\n",
       "      <td>-0.143605</td>\n",
       "    </tr>\n",
       "    <tr>\n",
       "      <th>7</th>\n",
       "      <td>27</td>\n",
       "      <td>27.083333</td>\n",
       "      <td>7.543853</td>\n",
       "      <td>-0.011047</td>\n",
       "    </tr>\n",
       "    <tr>\n",
       "      <th>8</th>\n",
       "      <td>28</td>\n",
       "      <td>27.083333</td>\n",
       "      <td>7.543853</td>\n",
       "      <td>0.121512</td>\n",
       "    </tr>\n",
       "    <tr>\n",
       "      <th>9</th>\n",
       "      <td>29</td>\n",
       "      <td>27.083333</td>\n",
       "      <td>7.543853</td>\n",
       "      <td>0.254070</td>\n",
       "    </tr>\n",
       "    <tr>\n",
       "      <th>10</th>\n",
       "      <td>30</td>\n",
       "      <td>27.083333</td>\n",
       "      <td>7.543853</td>\n",
       "      <td>0.386628</td>\n",
       "    </tr>\n",
       "    <tr>\n",
       "      <th>11</th>\n",
       "      <td>50</td>\n",
       "      <td>27.083333</td>\n",
       "      <td>7.543853</td>\n",
       "      <td>3.037793</td>\n",
       "    </tr>\n",
       "  </tbody>\n",
       "</table>\n",
       "</div>"
      ],
      "text/plain": [
       "    Age       mean       std   Z-score\n",
       "0    20  27.083333  7.543853 -0.938954\n",
       "1    21  27.083333  7.543853 -0.806396\n",
       "2    22  27.083333  7.543853 -0.673838\n",
       "3    23  27.083333  7.543853 -0.541280\n",
       "4    24  27.083333  7.543853 -0.408721\n",
       "5    25  27.083333  7.543853 -0.276163\n",
       "6    26  27.083333  7.543853 -0.143605\n",
       "7    27  27.083333  7.543853 -0.011047\n",
       "8    28  27.083333  7.543853  0.121512\n",
       "9    29  27.083333  7.543853  0.254070\n",
       "10   30  27.083333  7.543853  0.386628\n",
       "11   50  27.083333  7.543853  3.037793"
      ]
     },
     "execution_count": 30,
     "metadata": {},
     "output_type": "execute_result"
    }
   ],
   "source": [
    "# Step 3: Calcualating the mean and standard deviation:\n",
    "data['mean'] = np.mean(data['Age'])\n",
    "data['std'] = np.std(data['Age'])\n",
    "\n",
    "# Step 4: Calculating the Z-score:\n",
    "data['Z-score'] = (data['Age']-data['mean']) / data['std']\n",
    "data"
   ]
  },
  {
   "cell_type": "code",
   "execution_count": 31,
   "id": "3005f7fb-0d4d-4fda-9f47-f87020e69b36",
   "metadata": {},
   "outputs": [
    {
     "name": "stdout",
     "output_type": "stream",
     "text": [
      "Here is the data with outliers:\n",
      "     Age       mean       std   Z-score\n",
      "0    20  27.083333  7.543853 -0.938954\n",
      "1    21  27.083333  7.543853 -0.806396\n",
      "2    22  27.083333  7.543853 -0.673838\n",
      "3    23  27.083333  7.543853 -0.541280\n",
      "4    24  27.083333  7.543853 -0.408721\n",
      "5    25  27.083333  7.543853 -0.276163\n",
      "6    26  27.083333  7.543853 -0.143605\n",
      "7    27  27.083333  7.543853 -0.011047\n",
      "8    28  27.083333  7.543853  0.121512\n",
      "9    29  27.083333  7.543853  0.254070\n",
      "10   30  27.083333  7.543853  0.386628\n",
      "11   50  27.083333  7.543853  3.037793\n"
     ]
    }
   ],
   "source": [
    "# Step 5: Print the data:\n",
    "print(f'Here is the data with outliers:\\n {data}')"
   ]
  },
  {
   "cell_type": "code",
   "execution_count": 33,
   "id": "f482009c-630e-4a02-9cf7-9dc4d4dcabc4",
   "metadata": {},
   "outputs": [
    {
     "name": "stdout",
     "output_type": "stream",
     "text": [
      "Here are the outlier based on the z-score threshold, 3:\n",
      "     Age       mean       std   Z-score\n",
      "11   50  27.083333  7.543853  3.037793\n"
     ]
    }
   ],
   "source": [
    "# Step 6: Print the outlier:\n",
    "print(f\"Here are the outlier based on the z-score threshold, 3:\\n {data[data['Z-score'] > 3]}\")"
   ]
  },
  {
   "cell_type": "code",
   "execution_count": 34,
   "id": "843089df-5269-41f1-a16f-e07036fd9ca9",
   "metadata": {},
   "outputs": [
    {
     "name": "stdout",
     "output_type": "stream",
     "text": [
      "Here is the data without outliers:\n",
      "     Age       mean       std   Z-score\n",
      "0    20  27.083333  7.543853 -0.938954\n",
      "1    21  27.083333  7.543853 -0.806396\n",
      "2    22  27.083333  7.543853 -0.673838\n",
      "3    23  27.083333  7.543853 -0.541280\n",
      "4    24  27.083333  7.543853 -0.408721\n",
      "5    25  27.083333  7.543853 -0.276163\n",
      "6    26  27.083333  7.543853 -0.143605\n",
      "7    27  27.083333  7.543853 -0.011047\n",
      "8    28  27.083333  7.543853  0.121512\n",
      "9    29  27.083333  7.543853  0.254070\n",
      "10   30  27.083333  7.543853  0.386628\n"
     ]
    }
   ],
   "source": [
    "# Step 7: Removing the outliers:\n",
    "data = data[data['Z-score']<=3]\n",
    "\n",
    "# Step 8: Printing the data without outliers:\n",
    "print(f\"Here is the data without outliers:\\n {data}\")"
   ]
  },
  {
   "cell_type": "markdown",
   "id": "59425b7d-04fb-4b75-874e-1bbcba094c04",
   "metadata": {},
   "source": [
    "# Z-score Method for outliers:"
   ]
  },
  {
   "cell_type": "code",
   "execution_count": 39,
   "id": "79028ead-3fcc-4124-b023-a960fed63a52",
   "metadata": {},
   "outputs": [
    {
     "name": "stdout",
     "output_type": "stream",
     "text": [
      "Data: [2.5, 2.7, 2.8, 3.0, 3.2, 3.4, 3.6, 3.8, 4.0, 110.0]\n",
      "Indicate of outlier: [9]\n",
      "outliers: [110.0]\n",
      "Data without outliers: [2.5, 2.7, 2.8, 3.0, 3.2, 3.4, 3.6, 3.8, 4.0]\n"
     ]
    }
   ],
   "source": [
    "# Z-score Method for outliers:\n",
    "\n",
    "# Import libraries:\n",
    "import numpy as np\n",
    "from scipy import stats\n",
    "\n",
    "# Sample dataset:\n",
    "data = [2.5, 2.7, 2.8, 3.0, 3.2, 3.4, 3.6, 3.8, 4.0, 110.0]\n",
    "\n",
    "# Calculate the z-score for each data point:\n",
    "z_score = np.abs(stats.zscore(data))\n",
    "\n",
    "# Set threshold for identifying outliers:\n",
    "threshold = 2.5\n",
    "outliers = np.where(z_score > threshold)[0]\n",
    "\n",
    "# Print the data:\n",
    "print(\"Data:\", data)\n",
    "\n",
    "print(\"Indicate of outlier:\", outliers)\n",
    "print(\"outliers:\", [data[i] for i in range(len(data)) if i in outliers])\n",
    "\n",
    "# Removing the outliers:\n",
    "data = [data[i] for i in range(len(data)) if i not in outliers]\n",
    "\n",
    "print(\"Data without outliers:\", data)\n"
   ]
  },
  {
   "cell_type": "markdown",
   "id": "dca52ff5-43e1-4461-8f37-d443c68cb286",
   "metadata": {},
   "source": [
    "# Inter Quartile Range Methode for Outliers:"
   ]
  },
  {
   "cell_type": "code",
   "execution_count": 41,
   "id": "db94c81b-eac9-45ff-b8bb-513a2c16b8a9",
   "metadata": {},
   "outputs": [
    {
     "name": "stdout",
     "output_type": "stream",
     "text": [
      "----------------------------------------\n",
      "Here is the data with outliers:\n",
      "     Age\n",
      "0    20\n",
      "1    21\n",
      "2    22\n",
      "3    23\n",
      "4    24\n",
      "5    25\n",
      "6    26\n",
      "7    27\n",
      "8    28\n",
      "9    29\n",
      "10   30\n",
      "11   50\n",
      "----------------------------------------\n",
      "Here are the outliers based on the IQR threshold:\n",
      "     Age\n",
      "11   50\n",
      "----------------------------------------\n",
      "Here is the data without outliers:\n",
      "     Age\n",
      "0    20\n",
      "1    21\n",
      "2    22\n",
      "3    23\n",
      "4    24\n",
      "5    25\n",
      "6    26\n",
      "7    27\n",
      "8    28\n",
      "9    29\n",
      "10   30\n"
     ]
    }
   ],
   "source": [
    "# Step 1: Import the required libraries\n",
    "import pandas as pd\n",
    "import numpy as np\n",
    "\n",
    "# Step 2: Create the data\n",
    "data = pd.DataFrame({'Age': [20, 21, 22, 23, 24, 25, 26, 27, 28, 29, 30, 50]})\n",
    "\n",
    "# Step 3: Calculate the first and third quartile\n",
    "Q1 = np.percentile(data['Age'], 25, interpolation = 'midpoint')\n",
    "Q3 = np.percentile(data['Age'], 75, interpolation = 'midpoint')\n",
    "\n",
    "# Step 4: Calculate the IQR\n",
    "IQR = Q3 - Q1\n",
    "\n",
    "# Step 5: Calculate the lower and upper bound\n",
    "lower_bound = Q1 - (1.5 * IQR)\n",
    "upper_bound = Q3 + (1.5 * IQR)\n",
    "\n",
    "# Step 6: Print the data\n",
    "print(\"----------------------------------------\")\n",
    "print(f\"Here is the data with outliers:\\n {data}\")\n",
    "print(\"----------------------------------------\")\n",
    "# Step 7: Print the outliers\n",
    "print(f\"Here are the outliers based on the IQR threshold:\\n {data[(data['Age'] < lower_bound) | (data['Age'] > upper_bound)]}\")\n",
    "print(\"----------------------------------------\")\n",
    "# Step 8: Remove the outliers\n",
    "data = data[(data['Age'] >= lower_bound) & (data['Age'] <= upper_bound)]\n",
    "\n",
    "# Step 9: Print the data without outliers\n",
    "print(f\"Here is the data without outliers:\\n {data}\")"
   ]
  },
  {
   "cell_type": "markdown",
   "id": "a3b6ae90-c70d-489c-9684-f858d625bae4",
   "metadata": {},
   "source": [
    "# K-Means Clustering Method to find outliers:"
   ]
  },
  {
   "cell_type": "code",
   "execution_count": 42,
   "id": "68f8a448-23f7-435e-84d7-6ea749cee5ea",
   "metadata": {},
   "outputs": [
    {
     "name": "stderr",
     "output_type": "stream",
     "text": [
      "C:\\Users\\zahee\\anaconda3\\Lib\\site-packages\\sklearn\\cluster\\_kmeans.py:1446: UserWarning: KMeans is known to have a memory leak on Windows with MKL, when there are less chunks than available threads. You can avoid it by setting the environment variable OMP_NUM_THREADS=1.\n",
      "  warnings.warn(\n"
     ]
    },
    {
     "name": "stdout",
     "output_type": "stream",
     "text": [
      "Data: [[2, 2], [3, 3], [3, 4], [30, 30], [31, 31], [32, 32]]\n",
      "Outliers: [[2, 2], [3, 3], [3, 4]]\n",
      "Data without outliers: [[30, 30], [31, 31], [32, 32]]\n"
     ]
    }
   ],
   "source": [
    "# Import library\n",
    "from sklearn.cluster import KMeans\n",
    "\n",
    "# Sample data\n",
    "data = [[2, 2], [3, 3], [3, 4], [30, 30], [31, 31], [32, 32]]\n",
    "\n",
    "# Create a K-means model with two clusters (normal and outlier)\n",
    "kmeans = KMeans(n_clusters=2, n_init=10)\n",
    "kmeans.fit(data)\n",
    "\n",
    "# Predict cluster labels\n",
    "labels = kmeans.predict(data)\n",
    "\n",
    "# Identify outliers based on cluster labels\n",
    "outliers = [data[i] for i, label in enumerate(labels) if label == 1]\n",
    "\n",
    "# print data\n",
    "print(\"Data:\", data)\n",
    "print(\"Outliers:\", outliers)\n",
    "# Remove outliers\n",
    "data = [data[i] for i, label in enumerate(labels) if label == 0]\n",
    "print(\"Data without outliers:\", data)"
   ]
  }
 ],
 "metadata": {
  "kernelspec": {
   "display_name": "Python 3 (ipykernel)",
   "language": "python",
   "name": "python3"
  },
  "language_info": {
   "codemirror_mode": {
    "name": "ipython",
    "version": 3
   },
   "file_extension": ".py",
   "mimetype": "text/x-python",
   "name": "python",
   "nbconvert_exporter": "python",
   "pygments_lexer": "ipython3",
   "version": "3.12.4"
  }
 },
 "nbformat": 4,
 "nbformat_minor": 5
}
